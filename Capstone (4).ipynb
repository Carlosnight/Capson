{
 "cells": [
  {
   "cell_type": "markdown",
   "metadata": {},
   "source": [
    "# 基于卷积神经网络实现猫狗识别\n",
    "\n",
    "下载数据集到本地，[链接](https://www.kaggle.com/c/dogs-vs-cats-redux-kernels-edition/data),下载方法可见 README.md"
   ]
  },
  {
   "cell_type": "markdown",
   "metadata": {},
   "source": [
    "### 数据导入与预处理"
   ]
  },
  {
   "cell_type": "code",
   "execution_count": 1,
   "metadata": {},
   "outputs": [
    {
     "name": "stderr",
     "output_type": "stream",
     "text": [
      "/home/ubuntu/anaconda3/envs/tensorflow_p36/lib/python3.6/site-packages/matplotlib/__init__.py:1067: UserWarning: Duplicate key in file \"/home/ubuntu/.config/matplotlib/matplotlibrc\", line #2\n",
      "  (fname, cnt))\n",
      "/home/ubuntu/anaconda3/envs/tensorflow_p36/lib/python3.6/site-packages/matplotlib/__init__.py:1067: UserWarning: Duplicate key in file \"/home/ubuntu/.config/matplotlib/matplotlibrc\", line #3\n",
      "  (fname, cnt))\n",
      "Using TensorFlow backend.\n",
      "/home/ubuntu/anaconda3/envs/tensorflow_p36/lib/python3.6/site-packages/sklearn/cross_validation.py:41: DeprecationWarning: This module was deprecated in version 0.18 in favor of the model_selection module into which all the refactored classes and functions are moved. Also note that the interface of the new CV iterators are different from that of this module. This module will be removed in 0.20.\n",
      "  \"This module will be removed in 0.20.\", DeprecationWarning)\n"
     ]
    }
   ],
   "source": [
    "import cv2 \n",
    "import numpy as np\n",
    "import os\n",
    "from tqdm import tqdm\n",
    "import matplotlib.pyplot as plt\n",
    "from keras.preprocessing import image\n",
    "from PIL import Image\n",
    "import shutil\n",
    "from IPython.display import display\n",
    "from keras.utils import np_utils\n",
    "from sklearn.cross_validation import train_test_split"
   ]
  },
  {
   "cell_type": "markdown",
   "metadata": {},
   "source": [
    "# 定义调用模块"
   ]
  },
  {
   "cell_type": "markdown",
   "metadata": {},
   "source": [
    "### 制作软连接模块"
   ]
  },
  {
   "cell_type": "code",
   "execution_count": 2,
   "metadata": {},
   "outputs": [],
   "source": [
    "TRAIN_DATA_DIR = '/home/ubuntu/capstone/train'\n",
    "TEST_DATA_DIR = '/home/ubuntu/capstone/test'\n",
    "\n",
    "def make_symlink():\n",
    "\n",
    "    image_dogs = []\n",
    "    image_cats = []\n",
    "    label_dogs = []\n",
    "    label_cats = []\n",
    "    test_images = []\n",
    "    \n",
    "    if not os.path.exists('newTrain'):\n",
    "        os.mkdir('newTrain')\n",
    "        os.mkdir('newTrain/cats')\n",
    "        os.mkdir('newTrain/dogs')  \n",
    "    else:\n",
    "        shutil.rmtree('newTrain')\n",
    "        os.mkdir('newTrain')\n",
    "        os.mkdir('newTrain/cats')\n",
    "        os.mkdir('newTrain/dogs')  \n",
    "#         for filename in os.listdir('newTrain/cats'):\n",
    "#             os.remove('newTrain/cats/'+ filename)\n",
    "#         for filename in os.listdir('newTrain/dogs'):\n",
    "#             os.remove('newTrain/dogs/'+ filename)\n",
    "        \n",
    "    if not os.path.exists('newTest'):\n",
    "        os.mkdir('newTest')\n",
    "    else:\n",
    "        shutil.rmtree('newTest')\n",
    "        os.mkdir('newTest')\n",
    "#         if os.path.exists('newTest/test'):\n",
    "#             for filename in os.listdir('newTest/test'):\n",
    "#                 os.remove('newTest/test/'+ filename)\n",
    "#             os.rmdir('newTest/test/')\n",
    "    \n",
    "    \n",
    "    for img in tqdm(os.listdir(TRAIN_DATA_DIR)):\n",
    "        images = os.path.join(img)\n",
    "#         display(Image.open(TRAIN_DATA_DIR+'/'+img))\n",
    "        \n",
    "        labels = img.split('.')[0]\n",
    "        if labels == 'cat':\n",
    "            image_cats.append(images)\n",
    "            label_cats.append(0)\n",
    "        else:\n",
    "            image_dogs.append(images)\n",
    "            label_dogs.append(1)\n",
    "    \n",
    "#     print(\"images:\", image_dogs)\n",
    "    for img in tqdm(os.listdir(TEST_DATA_DIR)):\n",
    "        images = os.path.join(img)\n",
    "        test_images.append(images)\n",
    "            \n",
    "    for filename in image_cats:\n",
    "        os.symlink(TRAIN_DATA_DIR + '/'+filename, 'newTrain/cats/'+filename)\n",
    "        \n",
    "    for filename in image_dogs:\n",
    "        os.symlink(TRAIN_DATA_DIR + '/'+filename, 'newTrain/dogs/'+filename)\n",
    "    \n",
    "    os.symlink(TEST_DATA_DIR, 'newTest/test')\n",
    "    \n",
    "    return None\n",
    "    "
   ]
  },
  {
   "cell_type": "code",
   "execution_count": 16,
   "metadata": {},
   "outputs": [],
   "source": [
    "# make_symlink()"
   ]
  },
  {
   "cell_type": "markdown",
   "metadata": {},
   "source": [
    "### 生成器输出模块"
   ]
  },
  {
   "cell_type": "code",
   "execution_count": 3,
   "metadata": {},
   "outputs": [],
   "source": [
    "def make_generator(image_size, shuff):\n",
    "\n",
    "#     input_images = []\n",
    "    \n",
    "#     for i_img in i_images:\n",
    "# #       images = cv2.imread(images, cv2.IMREAD_COLOR)\n",
    "#         images = image.load_img(i_img, target_size=(1,image_size,image_size, 3))\n",
    "#         images = image.img_to_array(images)\n",
    "#         input_images.append(images)\n",
    "#     input_images = np.array(input_images)\n",
    "    \n",
    "#     # one hot eencoding\n",
    "#     input_labels = np_utils.to_categorical(i_labels)\n",
    "    \n",
    "    \n",
    "    # 图像预处理\n",
    "    datagen = image.ImageDataGenerator()\n",
    "#         horizontal_flip=True,\n",
    "#         vertical_flip=True)\n",
    "    if shuff:\n",
    "        train_batch = datagen.flow_from_directory('newTrain', target_size=(image_size,image_size),\n",
    "                                 batch_size=16,shuffle=True,seed=10)\n",
    "    else:\n",
    "        train_batch = datagen.flow_from_directory('newTrain', target_size=(image_size,image_size),\n",
    "                                 batch_size=16,shuffle=False,seed=10)\n",
    "    \n",
    "    test_batch = datagen.flow_from_directory('newTest', target_size=(image_size, image_size),\n",
    "                                 batch_size=16, shuffle=False,class_mode=None, seed=10)\n",
    "    \n",
    "    return train_batch, test_batch\n",
    "\n"
   ]
  },
  {
   "cell_type": "markdown",
   "metadata": {},
   "source": [
    "### 结果可视化模块"
   ]
  },
  {
   "cell_type": "code",
   "execution_count": 37,
   "metadata": {},
   "outputs": [],
   "source": [
    "def show_history(t_history,train,valid):\n",
    "    plt.plot(t_history.history[train])\n",
    "    plt.plot(t_history.history[valid])\n",
    "    plt.title('Xception Model '+ train +' History')\n",
    "    plt.ylabel(train)\n",
    "    plt.xlabel('Epoch')\n",
    "    plt.legend(['train '+train, 'valid '+valid], loc='upper left')\n",
    "    plt.show()\n",
    "    "
   ]
  },
  {
   "cell_type": "code",
   "execution_count": 5,
   "metadata": {},
   "outputs": [],
   "source": [
    "def plot_images_labels_prediction(images, labels,prediction, idx, num=2):\n",
    "    fig = plt.gcf()\n",
    "    fig.set_size_inches(299, 299)\n",
    "    if num>5 : \n",
    "        num=5\n",
    "    for i in range(0,num):\n",
    "        ax = plt.subplot(1,5,1+i)\n",
    "        ax.imshow(images[idx], cmap='binary')\n",
    "        title = \"label:\" + str(labels[idx])\n",
    "        if len(prediction) > 0:\n",
    "            title += \"prediction:\" + str(prediction[idx])\n",
    "                \n",
    "        ax.set_title(title, fontsize=10)\n",
    "        ax.set_xticks([])\n",
    "        ax.set_yticks([])\n",
    "        idx += 1\n",
    "    plt.show()"
   ]
  },
  {
   "cell_type": "markdown",
   "metadata": {},
   "source": [
    "# 建立模型\n",
    "使用预训练过的模型，使用迁移学习的思想进行模型的建立，并试图进行模型融合训练，使用到的模型有\n",
    "- Inception v3\n",
    "- InceptionResNetV2\n",
    "- Xception"
   ]
  },
  {
   "cell_type": "markdown",
   "metadata": {},
   "source": [
    "## Xception模型"
   ]
  },
  {
   "cell_type": "code",
   "execution_count": 88,
   "metadata": {},
   "outputs": [],
   "source": [
    "from keras.applications.xception import Xception, preprocess_input as xception_process\n",
    "from keras.applications.inception_v3 import InceptionV3, preprocess_input as inception_v3_process\n",
    "from keras.applications.inception_resnet_v2 import InceptionResNetV2, preprocess_input as inception_resnet2_process\n",
    "from keras.models import Model\n",
    "from keras.optimizers import SGD\n",
    "from IPython.display import SVG\n",
    "from keras.layers import *\n",
    "import h5py as h5py"
   ]
  },
  {
   "cell_type": "code",
   "execution_count": 7,
   "metadata": {},
   "outputs": [],
   "source": [
    "input_tensor = Input(shape=(299,299,3))\n",
    "model_xception = Xception(include_top=False, weights='imagenet', input_tensor=input_tensor)\n",
    "\n",
    "# for layer in model_xception.layers:\n",
    "#     layer.trainable = False\n",
    "    \n",
    "x = GlobalAveragePooling2D()(model_xception.output)\n",
    "\n",
    "# model1 = Flatten(name='flatten')(x)\n",
    "model1 = Dense(1024, activation='relu', name='fc1')(x)\n",
    "# model1 = Dense(1024, activation='relu', name='fc2')(model1)\n",
    "model1 = Dropout(0.5)(model1)\n",
    "model1 = Dense(2, activation='softmax', name='prediction')(model1)\n",
    "\n",
    "model_xception_pred = Model(model_xception.input, model1, name='xception')\n"
   ]
  },
  {
   "cell_type": "markdown",
   "metadata": {},
   "source": [
    "- 选择损失函数(loss)为：categorical_crossentropy  \n",
    "- 选择优化器(optimizer)为：Nadam() \n",
    "- 选择评价函数为：accuracy"
   ]
  },
  {
   "cell_type": "code",
   "execution_count": 8,
   "metadata": {},
   "outputs": [],
   "source": [
    "model_xception_pred.compile(loss='categorical_crossentropy', optimizer='Nadam', metrics=['accuracy'])"
   ]
  },
  {
   "cell_type": "markdown",
   "metadata": {},
   "source": [
    "### 训练模型"
   ]
  },
  {
   "cell_type": "code",
   "execution_count": 9,
   "metadata": {},
   "outputs": [
    {
     "name": "stderr",
     "output_type": "stream",
     "text": [
      "100%|██████████| 25000/25000 [00:00<00:00, 457659.62it/s]\n",
      "100%|██████████| 12500/12500 [00:00<00:00, 547908.33it/s]\n"
     ]
    },
    {
     "name": "stdout",
     "output_type": "stream",
     "text": [
      "Found 25000 images belonging to 2 classes.\n",
      "Found 12500 images belonging to 1 classes.\n",
      "Found 25000 images belonging to 2 classes.\n",
      "Found 12500 images belonging to 1 classes.\n"
     ]
    }
   ],
   "source": [
    "epochs = 10\n",
    "image_size = 299\n",
    "\n",
    "make_symlink()\n",
    "train_generator1, test_generator1 = make_generator(image_size, shuff=True)\n",
    "train_generator, test_generator = make_generator(image_size, shuff=False)\n",
    "# xception_history = model_xception_pred.fit_generator(train_generator, epochs=epochs, verbose=1)"
   ]
  },
  {
   "cell_type": "code",
   "execution_count": null,
   "metadata": {},
   "outputs": [
    {
     "name": "stdout",
     "output_type": "stream",
     "text": [
      "Epoch 1/10\n",
      "1563/1563 [==============================] - 2116s 1s/step - loss: 0.2192 - acc: 0.9119\n",
      "Epoch 2/10\n",
      "1563/1563 [==============================] - 2107s 1s/step - loss: 0.1170 - acc: 0.9537\n",
      "Epoch 3/10\n",
      "1563/1563 [==============================] - 2106s 1s/step - loss: 0.0968 - acc: 0.9636\n",
      "Epoch 4/10\n",
      "1563/1563 [==============================] - 2108s 1s/step - loss: 0.0863 - acc: 0.9677\n",
      "Epoch 5/10\n",
      " 496/1563 [========>.....................] - ETA: 23:58 - loss: 0.0750 - acc: 0.9686"
     ]
    }
   ],
   "source": [
    "xception_history = model_xception_pred.fit_generator(train_generator1, epochs=epochs, verbose=1)"
   ]
  },
  {
   "cell_type": "markdown",
   "metadata": {},
   "source": [
    "### 模型可视化"
   ]
  },
  {
   "cell_type": "code",
   "execution_count": null,
   "metadata": {},
   "outputs": [],
   "source": [
    "SVG(model_to_dot(model_xception_pred, show_shapes=True).create(prog=\"dot\", format='svg'))"
   ]
  },
  {
   "cell_type": "markdown",
   "metadata": {},
   "source": [
    "### 执行结果可视化"
   ]
  },
  {
   "cell_type": "code",
   "execution_count": null,
   "metadata": {},
   "outputs": [],
   "source": [
    "# accuracy 可视化\n",
    "show_history(xception_history, 'acc', 'val_acc')"
   ]
  },
  {
   "cell_type": "code",
   "execution_count": null,
   "metadata": {},
   "outputs": [],
   "source": [
    "# loss 可视化\n",
    "show_history(xception_history, 'loss', 'val_loss')"
   ]
  },
  {
   "cell_type": "markdown",
   "metadata": {},
   "source": [
    "## 建立混合模型"
   ]
  },
  {
   "cell_type": "markdown",
   "metadata": {},
   "source": [
    "### Xception 模型"
   ]
  },
  {
   "cell_type": "code",
   "execution_count": 89,
   "metadata": {},
   "outputs": [
    {
     "name": "stdout",
     "output_type": "stream",
     "text": [
      "1563/1563 [==============================] - 640s 410ms/step\n",
      "782/782 [==============================] - 317s 405ms/step\n"
     ]
    }
   ],
   "source": [
    "from keras.applications import xception\n",
    "tensor = Input(shape=(299,299,3))\n",
    "x_tensor = Lambda(xception_process)(tensor)\n",
    "model_xception = Xception(input_tensor=x_tensor, include_top=False, weights='imagenet') #input_shape=(299,299,3)\n",
    "x = GlobalAveragePooling2D()(model_xception.output)\n",
    "# xception_model = Dense(128, activation='relu')(x)\n",
    "xception_model = Model(model_xception.input, x)\n",
    "\n",
    "xception_train = xception_model.predict_generator(train_generator, verbose=1)\n",
    "xception_test = xception_model.predict_generator(test_generator, verbose=1)\n",
    "\n",
    "# 将特征向量写入数据文件\n",
    "with h5py.File(\"gap_Xception.h5\") as h:\n",
    "    h.create_dataset(\"train\", data=xception_train)\n",
    "    h.create_dataset(\"test\", data=xception_test)\n",
    "    h.create_dataset(\"t_label\", data=train_generator.classes)\n"
   ]
  },
  {
   "cell_type": "markdown",
   "metadata": {},
   "source": [
    "### Inception v3 模型"
   ]
  },
  {
   "cell_type": "code",
   "execution_count": 58,
   "metadata": {},
   "outputs": [
    {
     "name": "stdout",
     "output_type": "stream",
     "text": [
      "1563/1563 [==============================] - 367s 235ms/step\n",
      "782/782 [==============================] - 181s 232ms/step\n"
     ]
    }
   ],
   "source": [
    "from keras.applications import inception_v3\n",
    "y_tensor = Lambda(inception_v3_process)(tensor)\n",
    "model_inception_v3 = InceptionV3(input_tensor=y_tensor, include_top=False, weights='imagenet') # input_shape=(299,299,3)\n",
    "y = GlobalAveragePooling2D()(model_inception_v3.output)\n",
    "# inceptionV3_model = Dense(128, activation='relu')(y)\n",
    "inceptionV3_model = Model(inputs=tensor, outputs=y)\n",
    "\n",
    "inceptionV3_train = inceptionV3_model.predict_generator(train_generator, verbose=1)\n",
    "inceptionV3_test = inceptionV3_model.predict_generator(test_generator, verbose=1)\n",
    "\n",
    "# 将特征向量写入数据文件\n",
    "with h5py.File(\"gap_InceptionV3.h5\") as h:\n",
    "    h.create_dataset(\"train\", data=inceptionV3_train)\n",
    "    h.create_dataset(\"test\", data=inceptionV3_test)\n",
    "    h.create_dataset(\"t_label\", data=train_generator.classes)"
   ]
  },
  {
   "cell_type": "markdown",
   "metadata": {},
   "source": [
    "### InceptionResNetV2 模型"
   ]
  },
  {
   "cell_type": "code",
   "execution_count": 59,
   "metadata": {},
   "outputs": [
    {
     "name": "stdout",
     "output_type": "stream",
     "text": [
      "1563/1563 [==============================] - 799s 511ms/step\n",
      "782/782 [==============================] - 395s 506ms/step\n"
     ]
    }
   ],
   "source": [
    "from keras.applications import inception_resnet_v2\n",
    "z_tensor = Lambda(inception_resnet2_process)(tensor)\n",
    "model_inceptionresnetv2 = InceptionResNetV2(input_tensor=z_tensor, include_top=False, weights='imagenet') # input_shape=(299,299,3)\n",
    "z = GlobalAveragePooling2D()(model_inceptionresnetv2.output)\n",
    "# inceptionresnetv2_model = Dense(128, activation='relu')(z)\n",
    "inceptionresnetv2_model = Model(model_inceptionresnetv2.input, z)\n",
    "\n",
    "inceptionresnetv2_train = inceptionresnetv2_model.predict_generator(train_generator, verbose=1)\n",
    "inceptionresnetv2_test = inceptionresnetv2_model.predict_generator(test_generator, verbose=1)\n",
    "\n",
    "# 将特征向量写入数据文件\n",
    "with h5py.File(\"gap_InceptionResNetV2.h5\") as h:\n",
    "    h.create_dataset(\"train\", data=inceptionresnetv2_train)\n",
    "    h.create_dataset(\"test\", data=inceptionresnetv2_test)\n",
    "    h.create_dataset(\"t_label\", data=train_generator.classes)"
   ]
  },
  {
   "cell_type": "markdown",
   "metadata": {},
   "source": [
    "### 从文件中读取特征向量"
   ]
  },
  {
   "cell_type": "code",
   "execution_count": 90,
   "metadata": {},
   "outputs": [
    {
     "name": "stdout",
     "output_type": "stream",
     "text": [
      "gap_Xception.h5\n",
      "train_labels1: 2048\n",
      "train_labels2: [0 0 0 ... 0 0 0]\n",
      "train_labels3: (25000,)\n"
     ]
    }
   ],
   "source": [
    "from sklearn.utils import shuffle\n",
    "from keras.utils import to_categorical\n",
    "\n",
    "train_images = []\n",
    "train_labels = []\n",
    "valid_images = []\n",
    "valid_labels = []\n",
    "test_data = []\n",
    "\n",
    "h5File = [\"gap_Xception.h5\"] #, \"gap_InceptionV3.h5\", \"gap_InceptionResNetV2.h5\"\n",
    "for filename in h5File:\n",
    "    print(filename)\n",
    "    with h5py.File(filename, 'r') as h:\n",
    "        train_images.append(np.array(h['train']))\n",
    "        train_labels = np.array(h['t_label'])\n",
    "        test_data.append(np.array(h['test']))\n",
    "\n",
    "\n",
    "# 将list竖直拼接\n",
    "train_images = np.concatenate(train_images, axis=1)\n",
    "# train_labels = to_categorical(train_labels)\n",
    "print('train_labels1:',len(train_images[0]))\n",
    "\n",
    "print('train_labels2:',train_labels[0:12000])\n",
    "# train_labels = np.concatenate(train_labels, axis=1)\n",
    "test_data = np.concatenate(test_data, axis=1)\n",
    "\n",
    "train_images, train_labels = shuffle(train_images, train_labels)\n",
    "print(\"train_labels3:\", train_labels.shape)"
   ]
  },
  {
   "cell_type": "code",
   "execution_count": 61,
   "metadata": {},
   "outputs": [],
   "source": [
    "# plot_images_labels_prediction(train_images[0:2], train_labels, [],0,2)"
   ]
  },
  {
   "cell_type": "code",
   "execution_count": 82,
   "metadata": {},
   "outputs": [
    {
     "name": "stdout",
     "output_type": "stream",
     "text": [
      "train (25000, 1536)\n",
      "test (12500, 1536)\n",
      "t_label (25000,)\n"
     ]
    }
   ],
   "source": [
    "with h5py.File(\"gap_InceptionResNetV2.h5\", 'r') as h:\n",
    "    for k in list(h.keys())[::-1]:\n",
    "        print(k, h[k].shape)"
   ]
  },
  {
   "cell_type": "code",
   "execution_count": 91,
   "metadata": {},
   "outputs": [
    {
     "name": "stdout",
     "output_type": "stream",
     "text": [
      "(2048,)\n"
     ]
    }
   ],
   "source": [
    "train_input = Input(train_images.shape[1:])\n",
    "print(train_images.shape[1:])\n",
    "model = Dense(1024, activation='relu')(train_input)\n",
    "model = Dropout(0.5)(model)\n",
    "model = Dense(1, activation='sigmoid')(model)\n",
    "\n",
    "new_model = Model(train_input, model)"
   ]
  },
  {
   "cell_type": "code",
   "execution_count": 100,
   "metadata": {},
   "outputs": [],
   "source": [
    "new_model.compile(loss='binary_crossentropy', optimizer=SGD(lr=0.002, momentum=0.9), metrics=['accuracy']) # SGD(lr=0.002, momentum=0.9)"
   ]
  },
  {
   "cell_type": "code",
   "execution_count": 101,
   "metadata": {},
   "outputs": [
    {
     "name": "stdout",
     "output_type": "stream",
     "text": [
      "Train on 20000 samples, validate on 5000 samples\n",
      "Epoch 1/10\n",
      "20000/20000 [==============================] - 22s 1ms/step - loss: 0.0084 - acc: 0.9983 - val_loss: 0.0427 - val_acc: 0.9952\n",
      "Epoch 2/10\n",
      "20000/20000 [==============================] - 5s 233us/step - loss: 0.0070 - acc: 0.9986 - val_loss: 0.0401 - val_acc: 0.9952\n",
      "Epoch 3/10\n",
      "20000/20000 [==============================] - 5s 230us/step - loss: 0.0061 - acc: 0.9986 - val_loss: 0.0380 - val_acc: 0.9954\n",
      "Epoch 4/10\n",
      "20000/20000 [==============================] - 5s 232us/step - loss: 0.0049 - acc: 0.9987 - val_loss: 0.0388 - val_acc: 0.9944\n",
      "Epoch 5/10\n",
      "20000/20000 [==============================] - 5s 226us/step - loss: 0.0050 - acc: 0.9988 - val_loss: 0.0355 - val_acc: 0.9956\n",
      "Epoch 6/10\n",
      "20000/20000 [==============================] - 5s 227us/step - loss: 0.0044 - acc: 0.9988 - val_loss: 0.0366 - val_acc: 0.9948\n",
      "Epoch 7/10\n",
      "20000/20000 [==============================] - 4s 219us/step - loss: 0.0050 - acc: 0.9988 - val_loss: 0.0343 - val_acc: 0.9950\n",
      "Epoch 8/10\n",
      "20000/20000 [==============================] - 4s 215us/step - loss: 0.0041 - acc: 0.9988 - val_loss: 0.0342 - val_acc: 0.9948\n",
      "Epoch 9/10\n",
      "20000/20000 [==============================] - 4s 211us/step - loss: 0.0040 - acc: 0.9988 - val_loss: 0.0353 - val_acc: 0.9948\n",
      "Epoch 10/10\n",
      "20000/20000 [==============================] - 4s 213us/step - loss: 0.0039 - acc: 0.9990 - val_loss: 0.0339 - val_acc: 0.9952\n"
     ]
    }
   ],
   "source": [
    "new_model_history = new_model.fit(train_images, train_labels, batch_size=32, epochs=10, verbose=1, validation_split=0.2)"
   ]
  },
  {
   "cell_type": "code",
   "execution_count": 102,
   "metadata": {},
   "outputs": [
    {
     "data": {
      "image/png": "[encoded data removed]",
      "text/plain": [
       "<Figure size 432x288 with 1 Axes>"
      ]
     },
     "metadata": {},
     "output_type": "display_data"
    }
   ],
   "source": [
    "# accuracy 可视化\n",
    "show_history(new_model_history, 'acc', 'val_acc')"
   ]
  },
  {
   "cell_type": "code",
   "execution_count": 103,
   "metadata": {},
   "outputs": [
    {
     "data": {
      "image/png": "[encoded data removed]",
      "text/plain": [
       "<Figure size 432x288 with 1 Axes>"
      ]
     },
     "metadata": {},
     "output_type": "display_data"
    }
   ],
   "source": [
    "# loss 可视化\n",
    "show_history(new_model_history, 'loss', 'val_loss')"
   ]
  },
  {
   "cell_type": "markdown",
   "metadata": {},
   "source": [
    "## 测试"
   ]
  },
  {
   "cell_type": "code",
   "execution_count": 104,
   "metadata": {},
   "outputs": [
    {
     "name": "stdout",
     "output_type": "stream",
     "text": [
      "12500/12500 [==============================] - 9s 708us/step\n"
     ]
    }
   ],
   "source": [
    "test_pred = new_model.predict(test_data, verbose=1)"
   ]
  },
  {
   "cell_type": "code",
   "execution_count": 107,
   "metadata": {},
   "outputs": [
    {
     "name": "stderr",
     "output_type": "stream",
     "text": [
      "/home/ubuntu/anaconda3/envs/tensorflow_p36/lib/python3.6/site-packages/ipykernel_launcher.py:12: FutureWarning: set_value is deprecated and will be removed in a future release. Please use .at[] or .iat[] accessors instead\n",
      "  if sys.path[0] == '':\n"
     ]
    },
    {
     "data": {
      "text/html": [
       "<div>\n",
       "<style scoped>\n",
       "    .dataframe tbody tr th:only-of-type {\n",
       "        vertical-align: middle;\n",
       "    }\n",
       "\n",
       "    .dataframe tbody tr th {\n",
       "        vertical-align: top;\n",
       "    }\n",
       "\n",
       "    .dataframe thead th {\n",
       "        text-align: right;\n",
       "    }\n",
       "</style>\n",
       "<table border=\"1\" class=\"dataframe\">\n",
       "  <thead>\n",
       "    <tr style=\"text-align: right;\">\n",
       "      <th></th>\n",
       "      <th>id</th>\n",
       "      <th>label</th>\n",
       "    </tr>\n",
       "  </thead>\n",
       "  <tbody>\n",
       "    <tr>\n",
       "      <th>0</th>\n",
       "      <td>1</td>\n",
       "      <td>0.005</td>\n",
       "    </tr>\n",
       "    <tr>\n",
       "      <th>1</th>\n",
       "      <td>2</td>\n",
       "      <td>0.005</td>\n",
       "    </tr>\n",
       "    <tr>\n",
       "      <th>2</th>\n",
       "      <td>3</td>\n",
       "      <td>0.005</td>\n",
       "    </tr>\n",
       "    <tr>\n",
       "      <th>3</th>\n",
       "      <td>4</td>\n",
       "      <td>0.005</td>\n",
       "    </tr>\n",
       "    <tr>\n",
       "      <th>4</th>\n",
       "      <td>5</td>\n",
       "      <td>0.995</td>\n",
       "    </tr>\n",
       "    <tr>\n",
       "      <th>5</th>\n",
       "      <td>6</td>\n",
       "      <td>0.995</td>\n",
       "    </tr>\n",
       "    <tr>\n",
       "      <th>6</th>\n",
       "      <td>7</td>\n",
       "      <td>0.995</td>\n",
       "    </tr>\n",
       "    <tr>\n",
       "      <th>7</th>\n",
       "      <td>8</td>\n",
       "      <td>0.005</td>\n",
       "    </tr>\n",
       "    <tr>\n",
       "      <th>8</th>\n",
       "      <td>9</td>\n",
       "      <td>0.005</td>\n",
       "    </tr>\n",
       "    <tr>\n",
       "      <th>9</th>\n",
       "      <td>10</td>\n",
       "      <td>0.005</td>\n",
       "    </tr>\n",
       "  </tbody>\n",
       "</table>\n",
       "</div>"
      ],
      "text/plain": [
       "   id  label\n",
       "0   1  0.005\n",
       "1   2  0.005\n",
       "2   3  0.005\n",
       "3   4  0.005\n",
       "4   5  0.995\n",
       "5   6  0.995\n",
       "6   7  0.995\n",
       "7   8  0.005\n",
       "8   9  0.005\n",
       "9  10  0.005"
      ]
     },
     "execution_count": 107,
     "metadata": {},
     "output_type": "execute_result"
    }
   ],
   "source": [
    "import pandas as pd\n",
    "test_pred = test_pred.clip(min=0.005, max=0.995)\n",
    "\n",
    "file = pd.read_csv(\"sample_submission.csv\")\n",
    "\n",
    "# gen = ImageDataGenerator()\n",
    "# test_generator = gen.flow_from_directory(TEST_DATA_DIR, (299, 299),\n",
    "#                                         shuffle=False, batch_size=16, class_mode=None)\n",
    "\n",
    "for i, filename in enumerate(os.listdir('newTest/test')):\n",
    "    index = int(filename.split('.')[0])\n",
    "    file.set_value(index-1, 'label', test_pred[i])\n",
    "    \n",
    "file.to_csv('pred.csv', index=None)\n",
    "file.head(10)\n"
   ]
  },
  {
   "cell_type": "code",
   "execution_count": null,
   "metadata": {},
   "outputs": [],
   "source": []
  }
 ],
 "metadata": {
  "kernelspec": {
   "display_name": "Python 3",
   "language": "python",
   "name": "python3"
  },
  "language_info": {
   "codemirror_mode": {
    "name": "ipython",
    "version": 3
   },
   "file_extension": ".py",
   "mimetype": "text/x-python",
   "name": "python",
   "nbconvert_exporter": "python",
   "pygments_lexer": "ipython3",
   "version": "3.6.4"
  }
 },
 "nbformat": 4,
 "nbformat_minor": 2
}
